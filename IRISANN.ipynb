{
 "cells": [
  {
   "cell_type": "code",
   "execution_count": 1,
   "metadata": {
    "id": "pHZt2YlE21nC"
   },
   "outputs": [],
   "source": [
    "import numpy as np\n",
    "import pandas as pd\n",
    "import tensorflow\n",
    "from tensorflow import keras\n",
    "from tensorflow.keras import Sequential\n",
    "from tensorflow.keras.layers import Dense, Flatten\n",
    "\n",
    "from sklearn.datasets import load_iris\n"
   ]
  },
  {
   "cell_type": "code",
   "execution_count": 2,
   "metadata": {
    "id": "sc1Uih9n3atO"
   },
   "outputs": [],
   "source": [
    "data=load_iris()"
   ]
  },
  {
   "cell_type": "code",
   "execution_count": 3,
   "metadata": {
    "id": "amWM4M2m4EK_"
   },
   "outputs": [],
   "source": [
    "values=data.data"
   ]
  },
  {
   "cell_type": "code",
   "execution_count": 4,
   "metadata": {
    "id": "lYGhPoEt4Osf"
   },
   "outputs": [],
   "source": [
    "columns=data.feature_names"
   ]
  },
  {
   "cell_type": "code",
   "execution_count": 5,
   "metadata": {
    "id": "isKGIC4P4XsG"
   },
   "outputs": [],
   "source": [
    "target=data.target"
   ]
  },
  {
   "cell_type": "code",
   "execution_count": 6,
   "metadata": {
    "id": "1_7LM3By4esN"
   },
   "outputs": [],
   "source": [
    "df=pd.DataFrame(values, columns=columns)"
   ]
  },
  {
   "cell_type": "code",
   "execution_count": 7,
   "metadata": {
    "id": "w2cKYvFF4xvc"
   },
   "outputs": [],
   "source": [
    "df['target'] = target"
   ]
  },
  {
   "cell_type": "code",
   "execution_count": 8,
   "metadata": {
    "colab": {
     "base_uri": "https://localhost:8080/",
     "height": 206
    },
    "id": "d-LyAKLX4yyU",
    "outputId": "e698c2bf-db85-48e7-a472-187ff68418dc"
   },
   "outputs": [
    {
     "data": {
      "text/html": [
       "<div>\n",
       "<style scoped>\n",
       "    .dataframe tbody tr th:only-of-type {\n",
       "        vertical-align: middle;\n",
       "    }\n",
       "\n",
       "    .dataframe tbody tr th {\n",
       "        vertical-align: top;\n",
       "    }\n",
       "\n",
       "    .dataframe thead th {\n",
       "        text-align: right;\n",
       "    }\n",
       "</style>\n",
       "<table border=\"1\" class=\"dataframe\">\n",
       "  <thead>\n",
       "    <tr style=\"text-align: right;\">\n",
       "      <th></th>\n",
       "      <th>sepal length (cm)</th>\n",
       "      <th>sepal width (cm)</th>\n",
       "      <th>petal length (cm)</th>\n",
       "      <th>petal width (cm)</th>\n",
       "      <th>target</th>\n",
       "    </tr>\n",
       "  </thead>\n",
       "  <tbody>\n",
       "    <tr>\n",
       "      <th>0</th>\n",
       "      <td>5.1</td>\n",
       "      <td>3.5</td>\n",
       "      <td>1.4</td>\n",
       "      <td>0.2</td>\n",
       "      <td>0</td>\n",
       "    </tr>\n",
       "    <tr>\n",
       "      <th>1</th>\n",
       "      <td>4.9</td>\n",
       "      <td>3.0</td>\n",
       "      <td>1.4</td>\n",
       "      <td>0.2</td>\n",
       "      <td>0</td>\n",
       "    </tr>\n",
       "    <tr>\n",
       "      <th>2</th>\n",
       "      <td>4.7</td>\n",
       "      <td>3.2</td>\n",
       "      <td>1.3</td>\n",
       "      <td>0.2</td>\n",
       "      <td>0</td>\n",
       "    </tr>\n",
       "    <tr>\n",
       "      <th>3</th>\n",
       "      <td>4.6</td>\n",
       "      <td>3.1</td>\n",
       "      <td>1.5</td>\n",
       "      <td>0.2</td>\n",
       "      <td>0</td>\n",
       "    </tr>\n",
       "    <tr>\n",
       "      <th>4</th>\n",
       "      <td>5.0</td>\n",
       "      <td>3.6</td>\n",
       "      <td>1.4</td>\n",
       "      <td>0.2</td>\n",
       "      <td>0</td>\n",
       "    </tr>\n",
       "  </tbody>\n",
       "</table>\n",
       "</div>"
      ],
      "text/plain": [
       "   sepal length (cm)  sepal width (cm)  petal length (cm)  petal width (cm)  \\\n",
       "0                5.1               3.5                1.4               0.2   \n",
       "1                4.9               3.0                1.4               0.2   \n",
       "2                4.7               3.2                1.3               0.2   \n",
       "3                4.6               3.1                1.5               0.2   \n",
       "4                5.0               3.6                1.4               0.2   \n",
       "\n",
       "   target  \n",
       "0       0  \n",
       "1       0  \n",
       "2       0  \n",
       "3       0  \n",
       "4       0  "
      ]
     },
     "execution_count": 8,
     "metadata": {},
     "output_type": "execute_result"
    }
   ],
   "source": [
    "df.head()"
   ]
  },
  {
   "cell_type": "code",
   "execution_count": 9,
   "metadata": {
    "id": "54quFAu846M4"
   },
   "outputs": [],
   "source": [
    "df = df.sample(frac=1)"
   ]
  },
  {
   "cell_type": "code",
   "execution_count": 10,
   "metadata": {
    "colab": {
     "base_uri": "https://localhost:8080/",
     "height": 206
    },
    "id": "Ki6JEz6U49LK",
    "outputId": "0599a4e6-7782-4d9e-f10d-29dd1fcd5ddb"
   },
   "outputs": [
    {
     "data": {
      "text/html": [
       "<div>\n",
       "<style scoped>\n",
       "    .dataframe tbody tr th:only-of-type {\n",
       "        vertical-align: middle;\n",
       "    }\n",
       "\n",
       "    .dataframe tbody tr th {\n",
       "        vertical-align: top;\n",
       "    }\n",
       "\n",
       "    .dataframe thead th {\n",
       "        text-align: right;\n",
       "    }\n",
       "</style>\n",
       "<table border=\"1\" class=\"dataframe\">\n",
       "  <thead>\n",
       "    <tr style=\"text-align: right;\">\n",
       "      <th></th>\n",
       "      <th>sepal length (cm)</th>\n",
       "      <th>sepal width (cm)</th>\n",
       "      <th>petal length (cm)</th>\n",
       "      <th>petal width (cm)</th>\n",
       "      <th>target</th>\n",
       "    </tr>\n",
       "  </thead>\n",
       "  <tbody>\n",
       "    <tr>\n",
       "      <th>88</th>\n",
       "      <td>5.6</td>\n",
       "      <td>3.0</td>\n",
       "      <td>4.1</td>\n",
       "      <td>1.3</td>\n",
       "      <td>1</td>\n",
       "    </tr>\n",
       "    <tr>\n",
       "      <th>36</th>\n",
       "      <td>5.5</td>\n",
       "      <td>3.5</td>\n",
       "      <td>1.3</td>\n",
       "      <td>0.2</td>\n",
       "      <td>0</td>\n",
       "    </tr>\n",
       "    <tr>\n",
       "      <th>130</th>\n",
       "      <td>7.4</td>\n",
       "      <td>2.8</td>\n",
       "      <td>6.1</td>\n",
       "      <td>1.9</td>\n",
       "      <td>2</td>\n",
       "    </tr>\n",
       "    <tr>\n",
       "      <th>75</th>\n",
       "      <td>6.6</td>\n",
       "      <td>3.0</td>\n",
       "      <td>4.4</td>\n",
       "      <td>1.4</td>\n",
       "      <td>1</td>\n",
       "    </tr>\n",
       "    <tr>\n",
       "      <th>40</th>\n",
       "      <td>5.0</td>\n",
       "      <td>3.5</td>\n",
       "      <td>1.3</td>\n",
       "      <td>0.3</td>\n",
       "      <td>0</td>\n",
       "    </tr>\n",
       "  </tbody>\n",
       "</table>\n",
       "</div>"
      ],
      "text/plain": [
       "     sepal length (cm)  sepal width (cm)  petal length (cm)  petal width (cm)  \\\n",
       "88                 5.6               3.0                4.1               1.3   \n",
       "36                 5.5               3.5                1.3               0.2   \n",
       "130                7.4               2.8                6.1               1.9   \n",
       "75                 6.6               3.0                4.4               1.4   \n",
       "40                 5.0               3.5                1.3               0.3   \n",
       "\n",
       "     target  \n",
       "88        1  \n",
       "36        0  \n",
       "130       2  \n",
       "75        1  \n",
       "40        0  "
      ]
     },
     "execution_count": 10,
     "metadata": {},
     "output_type": "execute_result"
    }
   ],
   "source": [
    "df.head()"
   ]
  },
  {
   "cell_type": "code",
   "execution_count": 11,
   "metadata": {
    "id": "ZJKD02415fVY"
   },
   "outputs": [],
   "source": [
    "from sklearn.model_selection import train_test_split\n",
    "xtrain,xtest,ytrain,ytest = train_test_split(df.iloc[:,:4],df.iloc[:,-1],test_size=0.2,random_state=2)"
   ]
  },
  {
   "cell_type": "code",
   "execution_count": 12,
   "metadata": {
    "colab": {
     "base_uri": "https://localhost:8080/",
     "height": 424
    },
    "id": "OP5LFKJX54NY",
    "outputId": "6c0ee4bc-67fc-4eba-ab06-ab61d98bf384"
   },
   "outputs": [
    {
     "data": {
      "text/html": [
       "<div>\n",
       "<style scoped>\n",
       "    .dataframe tbody tr th:only-of-type {\n",
       "        vertical-align: middle;\n",
       "    }\n",
       "\n",
       "    .dataframe tbody tr th {\n",
       "        vertical-align: top;\n",
       "    }\n",
       "\n",
       "    .dataframe thead th {\n",
       "        text-align: right;\n",
       "    }\n",
       "</style>\n",
       "<table border=\"1\" class=\"dataframe\">\n",
       "  <thead>\n",
       "    <tr style=\"text-align: right;\">\n",
       "      <th></th>\n",
       "      <th>sepal length (cm)</th>\n",
       "      <th>sepal width (cm)</th>\n",
       "      <th>petal length (cm)</th>\n",
       "      <th>petal width (cm)</th>\n",
       "    </tr>\n",
       "  </thead>\n",
       "  <tbody>\n",
       "    <tr>\n",
       "      <th>114</th>\n",
       "      <td>5.8</td>\n",
       "      <td>2.8</td>\n",
       "      <td>5.1</td>\n",
       "      <td>2.4</td>\n",
       "    </tr>\n",
       "    <tr>\n",
       "      <th>31</th>\n",
       "      <td>5.4</td>\n",
       "      <td>3.4</td>\n",
       "      <td>1.5</td>\n",
       "      <td>0.4</td>\n",
       "    </tr>\n",
       "    <tr>\n",
       "      <th>117</th>\n",
       "      <td>7.7</td>\n",
       "      <td>3.8</td>\n",
       "      <td>6.7</td>\n",
       "      <td>2.2</td>\n",
       "    </tr>\n",
       "    <tr>\n",
       "      <th>94</th>\n",
       "      <td>5.6</td>\n",
       "      <td>2.7</td>\n",
       "      <td>4.2</td>\n",
       "      <td>1.3</td>\n",
       "    </tr>\n",
       "    <tr>\n",
       "      <th>98</th>\n",
       "      <td>5.1</td>\n",
       "      <td>2.5</td>\n",
       "      <td>3.0</td>\n",
       "      <td>1.1</td>\n",
       "    </tr>\n",
       "    <tr>\n",
       "      <th>...</th>\n",
       "      <td>...</td>\n",
       "      <td>...</td>\n",
       "      <td>...</td>\n",
       "      <td>...</td>\n",
       "    </tr>\n",
       "    <tr>\n",
       "      <th>35</th>\n",
       "      <td>5.0</td>\n",
       "      <td>3.2</td>\n",
       "      <td>1.2</td>\n",
       "      <td>0.2</td>\n",
       "    </tr>\n",
       "    <tr>\n",
       "      <th>44</th>\n",
       "      <td>5.1</td>\n",
       "      <td>3.8</td>\n",
       "      <td>1.9</td>\n",
       "      <td>0.4</td>\n",
       "    </tr>\n",
       "    <tr>\n",
       "      <th>79</th>\n",
       "      <td>5.7</td>\n",
       "      <td>2.6</td>\n",
       "      <td>3.5</td>\n",
       "      <td>1.0</td>\n",
       "    </tr>\n",
       "    <tr>\n",
       "      <th>11</th>\n",
       "      <td>4.8</td>\n",
       "      <td>3.4</td>\n",
       "      <td>1.6</td>\n",
       "      <td>0.2</td>\n",
       "    </tr>\n",
       "    <tr>\n",
       "      <th>4</th>\n",
       "      <td>5.0</td>\n",
       "      <td>3.6</td>\n",
       "      <td>1.4</td>\n",
       "      <td>0.2</td>\n",
       "    </tr>\n",
       "  </tbody>\n",
       "</table>\n",
       "<p>120 rows × 4 columns</p>\n",
       "</div>"
      ],
      "text/plain": [
       "     sepal length (cm)  sepal width (cm)  petal length (cm)  petal width (cm)\n",
       "114                5.8               2.8                5.1               2.4\n",
       "31                 5.4               3.4                1.5               0.4\n",
       "117                7.7               3.8                6.7               2.2\n",
       "94                 5.6               2.7                4.2               1.3\n",
       "98                 5.1               2.5                3.0               1.1\n",
       "..                 ...               ...                ...               ...\n",
       "35                 5.0               3.2                1.2               0.2\n",
       "44                 5.1               3.8                1.9               0.4\n",
       "79                 5.7               2.6                3.5               1.0\n",
       "11                 4.8               3.4                1.6               0.2\n",
       "4                  5.0               3.6                1.4               0.2\n",
       "\n",
       "[120 rows x 4 columns]"
      ]
     },
     "execution_count": 12,
     "metadata": {},
     "output_type": "execute_result"
    }
   ],
   "source": [
    "xtrain"
   ]
  },
  {
   "cell_type": "code",
   "execution_count": 13,
   "metadata": {
    "colab": {
     "base_uri": "https://localhost:8080/"
    },
    "id": "-2e-Li0C6A4x",
    "outputId": "19584705-044c-4c58-d2c0-6769e81e13c5"
   },
   "outputs": [
    {
     "data": {
      "text/plain": [
       "114    2\n",
       "31     0\n",
       "117    2\n",
       "94     1\n",
       "98     1\n",
       "      ..\n",
       "35     0\n",
       "44     0\n",
       "79     1\n",
       "11     0\n",
       "4      0\n",
       "Name: target, Length: 120, dtype: int32"
      ]
     },
     "execution_count": 13,
     "metadata": {},
     "output_type": "execute_result"
    }
   ],
   "source": [
    "ytrain"
   ]
  },
  {
   "cell_type": "code",
   "execution_count": 20,
   "metadata": {
    "id": "JuBwCGF48pxX"
   },
   "outputs": [],
   "source": [
    "model=Sequential()\n",
    "model.add(Dense(32,input_dim=4,activation='relu'))\n",
    "model.add(Dense(16 ,activation='relu'))\n",
    "model.add(Dense(8 ,activation='relu'))\n",
    "model.add(Dense(3,activation='softmax'))"
   ]
  },
  {
   "cell_type": "code",
   "execution_count": 21,
   "metadata": {
    "id": "3dWvjSkC9t48"
   },
   "outputs": [],
   "source": [
    "model.compile(loss='sparse_categorical_crossentropy',optimizer='Adam',metrics=['accuracy'])"
   ]
  },
  {
   "cell_type": "code",
   "execution_count": 22,
   "metadata": {
    "colab": {
     "base_uri": "https://localhost:8080/"
    },
    "id": "z2puy_h895Id",
    "outputId": "b17c7211-d700-4d2f-8c78-982fc753e883"
   },
   "outputs": [
    {
     "name": "stdout",
     "output_type": "stream",
     "text": [
      "Epoch 1/50\n",
      "3/3 [==============================] - 0s 134ms/step - loss: 1.1257 - accuracy: 0.2708 - val_loss: 1.0528 - val_accuracy: 0.6250\n",
      "Epoch 2/50\n",
      "3/3 [==============================] - 0s 13ms/step - loss: 1.0322 - accuracy: 0.6250 - val_loss: 0.9975 - val_accuracy: 0.6250\n",
      "Epoch 3/50\n",
      "3/3 [==============================] - 0s 12ms/step - loss: 0.9812 - accuracy: 0.6562 - val_loss: 0.9526 - val_accuracy: 0.6250\n",
      "Epoch 4/50\n",
      "3/3 [==============================] - 0s 12ms/step - loss: 0.9404 - accuracy: 0.6458 - val_loss: 0.9120 - val_accuracy: 0.6250\n",
      "Epoch 5/50\n",
      "3/3 [==============================] - 0s 13ms/step - loss: 0.9044 - accuracy: 0.6562 - val_loss: 0.8735 - val_accuracy: 0.7083\n",
      "Epoch 6/50\n",
      "3/3 [==============================] - 0s 12ms/step - loss: 0.8702 - accuracy: 0.6354 - val_loss: 0.8409 - val_accuracy: 0.7500\n",
      "Epoch 7/50\n",
      "3/3 [==============================] - 0s 11ms/step - loss: 0.8387 - accuracy: 0.6875 - val_loss: 0.8104 - val_accuracy: 0.7500\n",
      "Epoch 8/50\n",
      "3/3 [==============================] - 0s 14ms/step - loss: 0.8068 - accuracy: 0.6875 - val_loss: 0.7798 - val_accuracy: 0.7500\n",
      "Epoch 9/50\n",
      "3/3 [==============================] - 0s 11ms/step - loss: 0.7777 - accuracy: 0.7083 - val_loss: 0.7513 - val_accuracy: 0.7917\n",
      "Epoch 10/50\n",
      "3/3 [==============================] - ETA: 0s - loss: 0.7267 - accuracy: 0.84 - 0s 14ms/step - loss: 0.7507 - accuracy: 0.7292 - val_loss: 0.7254 - val_accuracy: 0.7917\n",
      "Epoch 11/50\n",
      "3/3 [==============================] - 0s 11ms/step - loss: 0.7251 - accuracy: 0.7396 - val_loss: 0.7024 - val_accuracy: 0.7917\n",
      "Epoch 12/50\n",
      "3/3 [==============================] - 0s 15ms/step - loss: 0.7051 - accuracy: 0.7188 - val_loss: 0.6822 - val_accuracy: 0.7500\n",
      "Epoch 13/50\n",
      "3/3 [==============================] - 0s 13ms/step - loss: 0.6823 - accuracy: 0.7188 - val_loss: 0.6605 - val_accuracy: 0.7500\n",
      "Epoch 14/50\n",
      "3/3 [==============================] - 0s 14ms/step - loss: 0.6619 - accuracy: 0.7396 - val_loss: 0.6384 - val_accuracy: 0.8333\n",
      "Epoch 15/50\n",
      "3/3 [==============================] - 0s 13ms/step - loss: 0.6421 - accuracy: 0.8021 - val_loss: 0.6181 - val_accuracy: 0.8750\n",
      "Epoch 16/50\n",
      "3/3 [==============================] - 0s 13ms/step - loss: 0.6237 - accuracy: 0.8333 - val_loss: 0.5993 - val_accuracy: 0.9167\n",
      "Epoch 17/50\n",
      "3/3 [==============================] - 0s 15ms/step - loss: 0.6095 - accuracy: 0.7917 - val_loss: 0.5841 - val_accuracy: 0.8333\n",
      "Epoch 18/50\n",
      "3/3 [==============================] - 0s 13ms/step - loss: 0.5900 - accuracy: 0.8125 - val_loss: 0.5653 - val_accuracy: 0.9583\n",
      "Epoch 19/50\n",
      "3/3 [==============================] - 0s 14ms/step - loss: 0.5746 - accuracy: 0.8542 - val_loss: 0.5480 - val_accuracy: 1.0000\n",
      "Epoch 20/50\n",
      "3/3 [==============================] - 0s 14ms/step - loss: 0.5610 - accuracy: 0.9271 - val_loss: 0.5321 - val_accuracy: 1.0000\n",
      "Epoch 21/50\n",
      "3/3 [==============================] - 0s 14ms/step - loss: 0.5463 - accuracy: 0.9271 - val_loss: 0.5176 - val_accuracy: 1.0000\n",
      "Epoch 22/50\n",
      "3/3 [==============================] - 0s 13ms/step - loss: 0.5354 - accuracy: 0.8854 - val_loss: 0.5078 - val_accuracy: 0.9583\n",
      "Epoch 23/50\n",
      "3/3 [==============================] - 0s 16ms/step - loss: 0.5213 - accuracy: 0.8438 - val_loss: 0.4954 - val_accuracy: 0.9583\n",
      "Epoch 24/50\n",
      "3/3 [==============================] - 0s 14ms/step - loss: 0.5087 - accuracy: 0.8646 - val_loss: 0.4828 - val_accuracy: 0.9583\n",
      "Epoch 25/50\n",
      "3/3 [==============================] - 0s 14ms/step - loss: 0.4983 - accuracy: 0.8958 - val_loss: 0.4695 - val_accuracy: 1.0000\n",
      "Epoch 26/50\n",
      "3/3 [==============================] - 0s 13ms/step - loss: 0.4872 - accuracy: 0.9271 - val_loss: 0.4591 - val_accuracy: 1.0000\n",
      "Epoch 27/50\n",
      "3/3 [==============================] - 0s 14ms/step - loss: 0.4780 - accuracy: 0.9271 - val_loss: 0.4491 - val_accuracy: 1.0000\n",
      "Epoch 28/50\n",
      "3/3 [==============================] - 0s 13ms/step - loss: 0.4686 - accuracy: 0.9375 - val_loss: 0.4401 - val_accuracy: 1.0000\n",
      "Epoch 29/50\n",
      "3/3 [==============================] - 0s 13ms/step - loss: 0.4600 - accuracy: 0.9271 - val_loss: 0.4302 - val_accuracy: 1.0000\n",
      "Epoch 30/50\n",
      "3/3 [==============================] - 0s 16ms/step - loss: 0.4518 - accuracy: 0.9271 - val_loss: 0.4211 - val_accuracy: 1.0000\n",
      "Epoch 31/50\n",
      "3/3 [==============================] - 0s 14ms/step - loss: 0.4441 - accuracy: 0.9375 - val_loss: 0.4147 - val_accuracy: 1.0000\n",
      "Epoch 32/50\n",
      "3/3 [==============================] - 0s 14ms/step - loss: 0.4374 - accuracy: 0.9271 - val_loss: 0.4071 - val_accuracy: 1.0000\n",
      "Epoch 33/50\n",
      "3/3 [==============================] - 0s 14ms/step - loss: 0.4285 - accuracy: 0.9375 - val_loss: 0.3986 - val_accuracy: 1.0000\n",
      "Epoch 34/50\n",
      "3/3 [==============================] - 0s 13ms/step - loss: 0.4216 - accuracy: 0.9271 - val_loss: 0.3909 - val_accuracy: 1.0000\n",
      "Epoch 35/50\n",
      "3/3 [==============================] - 0s 13ms/step - loss: 0.4165 - accuracy: 0.9271 - val_loss: 0.3827 - val_accuracy: 1.0000\n",
      "Epoch 36/50\n",
      "3/3 [==============================] - 0s 14ms/step - loss: 0.4094 - accuracy: 0.9688 - val_loss: 0.3754 - val_accuracy: 1.0000\n",
      "Epoch 37/50\n",
      "3/3 [==============================] - 0s 17ms/step - loss: 0.4021 - accuracy: 0.9479 - val_loss: 0.3702 - val_accuracy: 1.0000\n",
      "Epoch 38/50\n",
      "3/3 [==============================] - 0s 12ms/step - loss: 0.3962 - accuracy: 0.9375 - val_loss: 0.3653 - val_accuracy: 1.0000\n",
      "Epoch 39/50\n",
      "3/3 [==============================] - 0s 13ms/step - loss: 0.3930 - accuracy: 0.9375 - val_loss: 0.3607 - val_accuracy: 1.0000\n",
      "Epoch 40/50\n",
      "3/3 [==============================] - 0s 14ms/step - loss: 0.3845 - accuracy: 0.9375 - val_loss: 0.3518 - val_accuracy: 1.0000\n",
      "Epoch 41/50\n",
      "3/3 [==============================] - 0s 13ms/step - loss: 0.3816 - accuracy: 0.9479 - val_loss: 0.3442 - val_accuracy: 0.9583\n",
      "Epoch 42/50\n",
      "3/3 [==============================] - 0s 14ms/step - loss: 0.3745 - accuracy: 0.9583 - val_loss: 0.3379 - val_accuracy: 1.0000\n",
      "Epoch 43/50\n",
      "3/3 [==============================] - 0s 16ms/step - loss: 0.3689 - accuracy: 0.9688 - val_loss: 0.3329 - val_accuracy: 1.0000\n",
      "Epoch 44/50\n",
      "3/3 [==============================] - 0s 13ms/step - loss: 0.3641 - accuracy: 0.9375 - val_loss: 0.3295 - val_accuracy: 1.0000\n",
      "Epoch 45/50\n",
      "3/3 [==============================] - 0s 13ms/step - loss: 0.3577 - accuracy: 0.9375 - val_loss: 0.3225 - val_accuracy: 1.0000\n",
      "Epoch 46/50\n",
      "3/3 [==============================] - 0s 14ms/step - loss: 0.3573 - accuracy: 0.9479 - val_loss: 0.3148 - val_accuracy: 0.9583\n",
      "Epoch 47/50\n",
      "3/3 [==============================] - 0s 13ms/step - loss: 0.3476 - accuracy: 0.9583 - val_loss: 0.3094 - val_accuracy: 0.9583\n",
      "Epoch 48/50\n",
      "3/3 [==============================] - 0s 11ms/step - loss: 0.3432 - accuracy: 0.9688 - val_loss: 0.3059 - val_accuracy: 1.0000\n",
      "Epoch 49/50\n",
      "3/3 [==============================] - 0s 13ms/step - loss: 0.3363 - accuracy: 0.9792 - val_loss: 0.3015 - val_accuracy: 1.0000\n",
      "Epoch 50/50\n",
      "3/3 [==============================] - 0s 16ms/step - loss: 0.3317 - accuracy: 0.9688 - val_loss: 0.2965 - val_accuracy: 1.0000\n"
     ]
    }
   ],
   "source": [
    "history = model.fit(xtrain,ytrain,epochs=50,validation_split=0.2)"
   ]
  },
  {
   "cell_type": "code",
   "execution_count": 23,
   "metadata": {
    "colab": {
     "base_uri": "https://localhost:8080/"
    },
    "id": "QEaPrZUd99wp",
    "outputId": "57590d21-20ae-4123-960b-563179f3e3cf"
   },
   "outputs": [
    {
     "data": {
      "text/plain": [
       "array([[9.5759022e-01, 3.9962701e-02, 2.4471281e-03],\n",
       "       [2.9967394e-02, 6.7454362e-01, 2.9548901e-01],\n",
       "       [1.6382795e-03, 2.7928662e-01, 7.1907502e-01],\n",
       "       [9.2386580e-01, 7.0713229e-02, 5.4210359e-03],\n",
       "       [2.8479227e-03, 3.4709150e-01, 6.5006059e-01],\n",
       "       [1.2802066e-03, 2.2036609e-01, 7.7835369e-01],\n",
       "       [4.5349639e-02, 5.9539813e-01, 3.5925221e-01],\n",
       "       [4.9666669e-03, 3.9280525e-01, 6.0222811e-01],\n",
       "       [1.3778510e-02, 5.0278586e-01, 4.8343566e-01],\n",
       "       [8.7656750e-04, 2.1303797e-01, 7.8608549e-01],\n",
       "       [9.6542593e-03, 4.5002580e-01, 5.4031992e-01],\n",
       "       [1.4842089e-02, 4.8638070e-01, 4.9877724e-01],\n",
       "       [1.3955607e-03, 2.7918440e-01, 7.1942002e-01],\n",
       "       [7.8658378e-03, 4.2990759e-01, 5.6222653e-01],\n",
       "       [3.5065427e-02, 6.3386464e-01, 3.3106992e-01],\n",
       "       [1.2859651e-03, 2.2276755e-01, 7.7594644e-01],\n",
       "       [8.9677507e-01, 9.4855569e-02, 8.3693787e-03],\n",
       "       [3.3040412e-03, 3.2042801e-01, 6.7626798e-01],\n",
       "       [8.9977989e-03, 4.4424179e-01, 5.4676050e-01],\n",
       "       [9.5001471e-01, 4.6867326e-02, 3.1180573e-03],\n",
       "       [8.6113316e-01, 1.2744157e-01, 1.1425330e-02],\n",
       "       [9.2527795e-01, 6.9063291e-02, 5.6586810e-03],\n",
       "       [9.4690341e-01, 4.9748868e-02, 3.3476979e-03],\n",
       "       [1.6783697e-03, 2.4214244e-01, 7.5617921e-01],\n",
       "       [2.0041373e-03, 2.5093871e-01, 7.4705720e-01],\n",
       "       [1.3483658e-02, 4.5486873e-01, 5.3164762e-01],\n",
       "       [1.2731318e-03, 2.5986919e-01, 7.3885775e-01],\n",
       "       [9.1270823e-04, 1.9992098e-01, 7.9916626e-01],\n",
       "       [9.0938854e-01, 8.4579237e-02, 6.0322369e-03],\n",
       "       [1.5520829e-02, 4.7164768e-01, 5.1283145e-01]], dtype=float32)"
      ]
     },
     "execution_count": 23,
     "metadata": {},
     "output_type": "execute_result"
    }
   ],
   "source": [
    "yprob=model.predict(xtest)\n",
    "yprob"
   ]
  },
  {
   "cell_type": "code",
   "execution_count": 24,
   "metadata": {
    "id": "MWXYWBA4-EKC"
   },
   "outputs": [],
   "source": [
    "ypred=yprob.argmax(axis=1)"
   ]
  },
  {
   "cell_type": "code",
   "execution_count": 25,
   "metadata": {
    "colab": {
     "base_uri": "https://localhost:8080/"
    },
    "id": "3-ZMzM2A-PO_",
    "outputId": "2ce983e8-131e-481a-e464-500c245e7bfc"
   },
   "outputs": [
    {
     "name": "stdout",
     "output_type": "stream",
     "text": [
      "0.8666666666666667\n"
     ]
    }
   ],
   "source": [
    "from sklearn.metrics import accuracy_score,f1_score,recall_score,confusion_matrix\n",
    "print(accuracy_score(ytest,ypred))\n",
    "# print(recall_score(ytest,ypred))"
   ]
  },
  {
   "cell_type": "code",
   "execution_count": 26,
   "metadata": {
    "colab": {
     "base_uri": "https://localhost:8080/",
     "height": 283
    },
    "id": "8mdjtI7X-d3G",
    "outputId": "369ef869-e66c-4435-9cba-998bb1df9db6"
   },
   "outputs": [
    {
     "data": {
      "text/plain": [
       "[<matplotlib.lines.Line2D at 0x129ff1cc280>]"
      ]
     },
     "execution_count": 26,
     "metadata": {},
     "output_type": "execute_result"
    },
    {
     "data": {
      "image/png": "[encoded data removed]",
      "text/plain": [
       "<Figure size 432x288 with 1 Axes>"
      ]
     },
     "metadata": {
      "needs_background": "light"
     },
     "output_type": "display_data"
    }
   ],
   "source": [
    "import matplotlib.pyplot as plt\n",
    "plt.plot(history.history['loss'])\n",
    "plt.plot(history.history['val_loss'])"
   ]
  },
  {
   "cell_type": "code",
   "execution_count": 27,
   "metadata": {
    "colab": {
     "base_uri": "https://localhost:8080/",
     "height": 283
    },
    "id": "0DUQtqKH-vMA",
    "outputId": "a8658cfa-87a3-4b9a-d85e-5da91588e8cd"
   },
   "outputs": [
    {
     "data": {
      "text/plain": [
       "[<matplotlib.lines.Line2D at 0x129ff4f1a00>]"
      ]
     },
     "execution_count": 27,
     "metadata": {},
     "output_type": "execute_result"
    },
    {
     "data": {
      "image/png": "[encoded data removed]",
      "text/plain": [
       "<Figure size 432x288 with 1 Axes>"
      ]
     },
     "metadata": {
      "needs_background": "light"
     },
     "output_type": "display_data"
    }
   ],
   "source": [
    "plt.plot(history.history['accuracy'])\n",
    "plt.plot(history.history['val_accuracy'])"
   ]
  },
  {
   "cell_type": "code",
   "execution_count": 28,
   "metadata": {
    "colab": {
     "base_uri": "https://localhost:8080/"
    },
    "id": "voA3KuMt-4Ct",
    "outputId": "3259b95e-a34c-4889-db56-35cfe1773e83"
   },
   "outputs": [
    {
     "data": {
      "text/plain": [
       "(0.9259259259259259, 0.8333333333333334, 0.8472222222222222, None)"
      ]
     },
     "execution_count": 28,
     "metadata": {},
     "output_type": "execute_result"
    }
   ],
   "source": [
    "from sklearn.metrics import precision_recall_fscore_support\n",
    "precision_recall_fscore_support(ytest.tolist(), ypred.tolist(), average='macro')"
   ]
  },
  {
   "cell_type": "code",
   "execution_count": 29,
   "metadata": {
    "colab": {
     "base_uri": "https://localhost:8080/"
    },
    "id": "ud-2tO3SAkJh",
    "outputId": "f6b399c5-c8f1-4733-8a93-25c29298a1ea"
   },
   "outputs": [
    {
     "data": {
      "text/plain": [
       "array([[ 8,  0,  0],\n",
       "       [ 0,  4,  4],\n",
       "       [ 0,  0, 14]], dtype=int64)"
      ]
     },
     "execution_count": 29,
     "metadata": {},
     "output_type": "execute_result"
    }
   ],
   "source": [
    "confusion_matrix(ytest,ypred)"
   ]
  },
  {
   "cell_type": "code",
   "execution_count": null,
   "metadata": {
    "id": "NtWr_xK8A5hQ"
   },
   "outputs": [],
   "source": []
  },
  {
   "cell_type": "code",
   "execution_count": null,
   "metadata": {},
   "outputs": [],
   "source": []
  }
 ],
 "metadata": {
  "colab": {
   "name": "IRISANN.ipynb",
   "provenance": []
  },
  "kernelspec": {
   "display_name": "Python 3",
   "language": "python",
   "name": "python3"
  },
  "language_info": {
   "codemirror_mode": {
    "name": "ipython",
    "version": 3
   },
   "file_extension": ".py",
   "mimetype": "text/x-python",
   "name": "python",
   "nbconvert_exporter": "python",
   "pygments_lexer": "ipython3",
   "version": "3.8.8"
  }
 },
 "nbformat": 4,
 "nbformat_minor": 1
}
